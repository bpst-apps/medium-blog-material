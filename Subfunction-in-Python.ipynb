{
 "cells": [
  {
   "cell_type": "code",
   "execution_count": 1,
   "id": "bc808da0",
   "metadata": {},
   "outputs": [
    {
     "name": "stdout",
     "output_type": "stream",
     "text": [
      "Hello, John!\n"
     ]
    }
   ],
   "source": [
    "def greet(name: str):\n",
    "    def greeting():\n",
    "        return f'Hello, {name}!' \n",
    "    return greeting()\n",
    "\n",
    "print(greet('John'))"
   ]
  },
  {
   "cell_type": "code",
   "execution_count": 2,
   "id": "1f07445d",
   "metadata": {},
   "outputs": [
    {
     "name": "stdout",
     "output_type": "stream",
     "text": [
      "15\n"
     ]
    }
   ],
   "source": [
    "def outer_function(x):\n",
    "    def inner_function(y):\n",
    "        return x + y\n",
    "    return inner_function\n",
    "\n",
    "add_10 = outer_function(10)\n",
    "result = add_10(5)\n",
    "print(result) # Output: 15"
   ]
  },
  {
   "cell_type": "code",
   "execution_count": 3,
   "id": "38c43308",
   "metadata": {},
   "outputs": [
    {
     "name": "stdout",
     "output_type": "stream",
     "text": [
      "61.0\n",
      "671\n",
      "19.2825875291202\n"
     ]
    }
   ],
   "source": [
    "# define main calculation function\n",
    "def main_calculation(numbers):\n",
    "    def find_average(numbers):\n",
    "        return sum(numbers) / len(numbers)\n",
    "    \n",
    "    def find_sum(numbers):\n",
    "        return sum(numbers)\n",
    "    \n",
    "    def find_standard_deviation(numbers):\n",
    "        avg = find_average(numbers)\n",
    "        variance = sum((x - avg) ** 2 for x in numbers) / len(numbers)\n",
    "        return variance ** 0.5\n",
    "    \n",
    "    avg = find_average(numbers)\n",
    "    total = find_sum(numbers)\n",
    "    std_dev = find_standard_deviation(numbers)\n",
    "    \n",
    "    return avg, total, std_dev\n",
    "\n",
    "# define numbers list\n",
    "nums = [33, 62, 71, 49, 56, 78, 32, 45, 66, 89, 90]\n",
    "\n",
    "# invoke main calculation function\n",
    "average, total, std_dev = main_calculation(nums)\n",
    "print(average) # Output: 61.0\n",
    "print(total) # Output: 671\n",
    "print(std_dev) # Output: 19.2825875291202"
   ]
  },
  {
   "cell_type": "code",
   "execution_count": 4,
   "id": "54feee9f",
   "metadata": {},
   "outputs": [
    {
     "data": {
      "text/plain": [
       "['do',\n",
       " 'you',\n",
       " 'ever',\n",
       " 'feel',\n",
       " 'like',\n",
       " 'the',\n",
       " 'world',\n",
       " 'is',\n",
       " 'moving',\n",
       " 'too',\n",
       " 'fast',\n",
       " 'and',\n",
       " 'you',\n",
       " 'cant',\n",
       " 'keep',\n",
       " 'up',\n",
       " 'its',\n",
       " 'a',\n",
       " 'common',\n",
       " 'sentiment',\n",
       " 'these',\n",
       " 'days',\n",
       " 'with',\n",
       " 'technology',\n",
       " 'advancing',\n",
       " 'at',\n",
       " 'an',\n",
       " 'unprecedented',\n",
       " 'pace',\n",
       " 'and',\n",
       " 'our',\n",
       " 'daily',\n",
       " 'lives',\n",
       " 'becoming',\n",
       " 'more',\n",
       " 'and',\n",
       " 'more',\n",
       " 'hectic',\n",
       " 'however',\n",
       " 'its',\n",
       " 'important',\n",
       " 'to',\n",
       " 'remember',\n",
       " 'that',\n",
       " 'we',\n",
       " 'have',\n",
       " 'the',\n",
       " 'power',\n",
       " 'to',\n",
       " 'control',\n",
       " 'our',\n",
       " 'own',\n",
       " 'pace',\n",
       " 'and',\n",
       " 'create',\n",
       " 'a',\n",
       " 'life',\n",
       " 'that',\n",
       " 'is',\n",
       " 'fulfilling',\n",
       " 'and',\n",
       " 'meaningful',\n",
       " 'so',\n",
       " 'take',\n",
       " 'a',\n",
       " 'deep',\n",
       " 'breath',\n",
       " 'slow',\n",
       " 'down',\n",
       " 'and',\n",
       " 'enjoy',\n",
       " 'the',\n",
       " 'journey',\n",
       " 'after',\n",
       " 'all',\n",
       " 'life',\n",
       " 'is',\n",
       " 'not',\n",
       " 'about',\n",
       " 'arriving',\n",
       " 'at',\n",
       " 'the',\n",
       " 'destination',\n",
       " 'but',\n",
       " 'about',\n",
       " 'the',\n",
       " 'experiences',\n",
       " 'we',\n",
       " 'have',\n",
       " 'along',\n",
       " 'the',\n",
       " 'way']"
      ]
     },
     "execution_count": 4,
     "metadata": {},
     "output_type": "execute_result"
    }
   ],
   "source": [
    "# imports\n",
    "import string\n",
    "\n",
    "# define string preprocessing function\n",
    "def preprocess_string(raw_string):\n",
    "    def remove_punctuation(raw_string):\n",
    "        return ''.join(c for c in raw_string if c not in string.punctuation)\n",
    "\n",
    "    def convert_to_lowercase(raw_string):\n",
    "        return raw_string.lower()\n",
    "\n",
    "    def split_into_words(raw_string):\n",
    "        return raw_string.split()\n",
    "\n",
    "    raw_string = remove_punctuation(raw_string)\n",
    "    raw_string = convert_to_lowercase(raw_string)\n",
    "    words = split_into_words(raw_string)\n",
    "\n",
    "    return words\n",
    "\n",
    "# define sample string\n",
    "sample_string = \"Do you ever feel like the world is moving too fast, and you can't keep up? It's a common sentiment these days, with technology advancing at an unprecedented pace and our daily lives becoming more and more hectic. However, it's important to remember that we have the power to control our own pace, and create a life that is fulfilling and meaningful. So, take a deep breath, slow down, and enjoy the journey. After all, life is not about arriving at the destination, but about the experiences we have along the way!\"\n",
    "\n",
    "# preprocess string to get words in lowercase and without functuation\n",
    "words = preprocess_string(sample_string)\n",
    "words # Output: ['do', 'you', 'ever',...,'the', 'way']"
   ]
  },
  {
   "cell_type": "code",
   "execution_count": 5,
   "id": "68b51e4c",
   "metadata": {},
   "outputs": [
    {
     "name": "stdout",
     "output_type": "stream",
     "text": [
      "24174.5\n"
     ]
    }
   ],
   "source": [
    "# define function to calculate tax both federal and state\n",
    "def calc_tax(income, state):\n",
    "    def calculate_federal_tax(income):\n",
    "        if income <= 9700:\n",
    "            return 0.1 * income\n",
    "        elif income <= 39475:\n",
    "            return 970 + 0.12 * (income - 9700)\n",
    "        elif income <= 84200:\n",
    "            return 4543 + 0.22 * (income - 39475)\n",
    "        elif income <= 160725:\n",
    "            return 14382.5 + 0.24 * (income - 84200)\n",
    "        elif income <= 204100:\n",
    "            return 32748.5 + 0.32 * (income - 160725)\n",
    "        elif income <= 510300:\n",
    "            return 46628.5 + 0.35 * (income - 204100)\n",
    "        else:\n",
    "            return 153798.5 + 0.37 * (income - 510300)\n",
    "        \n",
    "    def calculate_state_tax(income, state):\n",
    "        if state == \"NY\":\n",
    "            return 0.06 * income\n",
    "        elif state == \"CA\":\n",
    "            return 0.08 * income\n",
    "        else:\n",
    "            return 0\n",
    "    \n",
    "    federal_tax = calculate_federal_tax(income)\n",
    "    state_tax = calculate_state_tax(income, state)\n",
    "    \n",
    "    return federal_tax + state_tax\n",
    "\n",
    "# get total tax payable based on income and state\n",
    "tax = calc_tax(100000, \"NY\")\n",
    "print(tax) # Output: 24174.5"
   ]
  },
  {
   "cell_type": "code",
   "execution_count": 6,
   "id": "ec213770",
   "metadata": {},
   "outputs": [
    {
     "name": "stdout",
     "output_type": "stream",
     "text": [
      "1\n",
      "2\n",
      "101\n",
      "102\n"
     ]
    }
   ],
   "source": [
    "# function to create counter\n",
    "def create_counter(start):\n",
    "    def counter():\n",
    "        nonlocal start\n",
    "        start += 1\n",
    "        return start\n",
    "    return counter\n",
    "\n",
    "# define counters\n",
    "counter1 = create_counter(0)\n",
    "counter2 = create_counter(100)\n",
    "\n",
    "print(counter1()) # Output: 1\n",
    "print(counter1()) # Output: 2\n",
    "print(counter2()) # Output: 101\n",
    "print(counter2()) # Output: 102"
   ]
  },
  {
   "cell_type": "code",
   "execution_count": 7,
   "id": "374ddc08",
   "metadata": {},
   "outputs": [
    {
     "name": "stdout",
     "output_type": "stream",
     "text": [
      "25\n"
     ]
    }
   ],
   "source": [
    "# define function to perform complex calculations\n",
    "def complex_calculation(x, y):\n",
    "    def intermediate_calculation(x, y):\n",
    "        return x ** 2 + y ** 2\n",
    "\n",
    "    result = intermediate_calculation(x, y)\n",
    "    return result\n",
    "\n",
    "print(complex_calculation(3, 4)) # Output: 25"
   ]
  },
  {
   "cell_type": "code",
   "execution_count": 8,
   "id": "aa46f7ec",
   "metadata": {},
   "outputs": [],
   "source": [
    "# function to process data\n",
    "def process_data(data):\n",
    "    def clean_data(data):\n",
    "        return [x for x in data if x is not None]\n",
    "\n",
    "    def sort_data(data):\n",
    "        return sorted(data)\n",
    "\n",
    "    data = clean_data(data)\n",
    "    data = sort_data(data)\n",
    "    return data"
   ]
  },
  {
   "cell_type": "code",
   "execution_count": 9,
   "id": "3cc849f0",
   "metadata": {},
   "outputs": [],
   "source": [
    "# function to test complex calculation function define above\n",
    "def test_complex_calculation():\n",
    "    def test_case(x, y, expected_result):\n",
    "        result = complex_calculation(x, y)\n",
    "        assert result == expected_result, f'{result} != {expected_result}'\n",
    "\n",
    "    test_case(3, 4, 25)\n",
    "    test_case(5, 12, 169)\n",
    "    test_case(-3, 4, 25)"
   ]
  },
  {
   "cell_type": "code",
   "execution_count": 10,
   "id": "96cc3014",
   "metadata": {},
   "outputs": [],
   "source": [
    "# function to process data\n",
    "def process_data(data):\n",
    "    def clean_data(data):\n",
    "        def remove_duplicates(data):\n",
    "            return list(set(data))\n",
    "\n",
    "        def remove_empty_values(data):\n",
    "            return [x for x in data if x != '']\n",
    "\n",
    "        data = remove_duplicates(data)\n",
    "        data = remove_empty_values(data)\n",
    "        return data\n",
    "\n",
    "    def sort_data(data):\n",
    "        def sort_ascending(data):\n",
    "            return sorted(data)\n",
    "\n",
    "        def sort_descending(data):\n",
    "            return sorted(data, reverse=True)\n",
    "\n",
    "        sort_order = input(\"Enter 'A' for ascending or 'D' for descending: \")\n",
    "        if sort_order == 'A':\n",
    "            data = sort_ascending(data)\n",
    "        elif sort_order == 'D':\n",
    "            data = sort_descending(data)\n",
    "        return data\n",
    "\n",
    "    data = clean_data(data)\n",
    "    data = sort_data(data)\n",
    "    return data"
   ]
  },
  {
   "cell_type": "code",
   "execution_count": 11,
   "id": "4a818a75",
   "metadata": {},
   "outputs": [
    {
     "name": "stdout",
     "output_type": "stream",
     "text": [
      "Time taken: 0.1099541187286377\n"
     ]
    }
   ],
   "source": [
    "# function to process data\n",
    "def process_data(data):\n",
    "    def clean_data(data):\n",
    "        data = [x for x in data if x != '']\n",
    "        return data\n",
    "\n",
    "    def sort_data(data):\n",
    "        data = sorted(data)\n",
    "        return data\n",
    "\n",
    "    data = clean_data(data)\n",
    "    data = sort_data(data)\n",
    "    return data\n",
    "\n",
    "# Test the function with a large dataset\n",
    "import time\n",
    "\n",
    "start = time.time()\n",
    "large_dataset = [x for x in range(1000000)]\n",
    "processed_data = process_data(large_dataset)\n",
    "end = time.time()\n",
    "print(\"Time taken:\", end - start)"
   ]
  },
  {
   "cell_type": "code",
   "execution_count": 12,
   "id": "3e458eda",
   "metadata": {},
   "outputs": [],
   "source": [
    "# imports\n",
    "import cv2\n",
    "\n",
    "# function to process image\n",
    "def process_image(image):\n",
    "    def resize_image(image):\n",
    "        return cv2.resize(image, (500, 500))\n",
    "\n",
    "    def convert_to_gray(image):\n",
    "        return cv2.cvtColor(image, cv2.COLOR_BGR2GRAY)\n",
    "\n",
    "    def detect_edges(image):\n",
    "        return cv2.Canny(image, 100, 200)\n",
    "\n",
    "    image = resize_image(image)\n",
    "    image = convert_to_gray(image)\n",
    "    image = detect_edges(image)\n",
    "    \n",
    "    return image"
   ]
  }
 ],
 "metadata": {
  "kernelspec": {
   "display_name": "Python 3 (ipykernel)",
   "language": "python",
   "name": "python3"
  },
  "language_info": {
   "codemirror_mode": {
    "name": "ipython",
    "version": 3
   },
   "file_extension": ".py",
   "mimetype": "text/x-python",
   "name": "python",
   "nbconvert_exporter": "python",
   "pygments_lexer": "ipython3",
   "version": "3.11.1"
  }
 },
 "nbformat": 4,
 "nbformat_minor": 5
}
