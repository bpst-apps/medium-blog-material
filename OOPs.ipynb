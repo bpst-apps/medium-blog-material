{
 "cells": [
  {
   "cell_type": "code",
   "execution_count": 1,
   "id": "27c63318",
   "metadata": {},
   "outputs": [
    {
     "name": "stdout",
     "output_type": "stream",
     "text": [
      "88.0\n"
     ]
    }
   ],
   "source": [
    "from typing import List\n",
    "\n",
    "student = {\"name\": \"Sam\", \"grades\": (86, 90, 93, 78, 93)}\n",
    "\n",
    "def average(sequence: List) -> float:\n",
    "    return sum(sequence)/len(sequence)\n",
    "\n",
    "print(average(student[\"grades\"]))"
   ]
  },
  {
   "cell_type": "code",
   "execution_count": 2,
   "id": "ef335dbb",
   "metadata": {},
   "outputs": [],
   "source": [
    "# convert to object oriented programming\n",
    "class Student:\n",
    "    \n",
    "    def __init__(self):\n",
    "        self.name = \"Sam\""
   ]
  },
  {
   "cell_type": "code",
   "execution_count": 3,
   "id": "3cf91da0",
   "metadata": {},
   "outputs": [
    {
     "name": "stdout",
     "output_type": "stream",
     "text": [
      "Sam\n"
     ]
    }
   ],
   "source": [
    "student = Student()\n",
    "print(student.name)"
   ]
  },
  {
   "cell_type": "code",
   "execution_count": 4,
   "id": "f09cc36c",
   "metadata": {},
   "outputs": [],
   "source": [
    "class Student:\n",
    "    \n",
    "    def __init__(self, name: str):\n",
    "        self.name = name"
   ]
  },
  {
   "cell_type": "code",
   "execution_count": 5,
   "id": "3c77988c",
   "metadata": {},
   "outputs": [
    {
     "name": "stdout",
     "output_type": "stream",
     "text": [
      "John\n"
     ]
    }
   ],
   "source": [
    "studentJohn = Student(\"John\")\n",
    "print(studentJohn.name)"
   ]
  },
  {
   "cell_type": "code",
   "execution_count": 6,
   "id": "dc021587",
   "metadata": {},
   "outputs": [
    {
     "name": "stdout",
     "output_type": "stream",
     "text": [
      "Matt\n"
     ]
    }
   ],
   "source": [
    "studentMatt = Student(\"Matt\")\n",
    "print(studentMatt.name)"
   ]
  },
  {
   "cell_type": "code",
   "execution_count": 7,
   "id": "90edfb6e",
   "metadata": {},
   "outputs": [],
   "source": [
    "class Student:\n",
    "    \n",
    "    def __init__(self, name: str, grades: tuple):\n",
    "        self.name = name\n",
    "        self.grades = grades"
   ]
  },
  {
   "cell_type": "code",
   "execution_count": 8,
   "id": "bae89b45",
   "metadata": {},
   "outputs": [
    {
     "name": "stdout",
     "output_type": "stream",
     "text": [
      "Matt\n",
      "(86, 90, 93, 78, 93)\n"
     ]
    }
   ],
   "source": [
    "studentMatt = Student(\"Matt\", (86, 90, 93, 78, 93))\n",
    "print(studentMatt.name)\n",
    "print(studentMatt.grades)"
   ]
  },
  {
   "cell_type": "code",
   "execution_count": 9,
   "id": "5cc96ba4",
   "metadata": {},
   "outputs": [],
   "source": [
    "class Student:\n",
    "    \n",
    "    def __init__(self, name: str, grades: tuple):\n",
    "        self.name = name\n",
    "        self.grades = grades\n",
    "        \n",
    "    def average_grade(self):\n",
    "        return sum(self.grades)/len(self.grades)"
   ]
  },
  {
   "cell_type": "code",
   "execution_count": 10,
   "id": "948f4366",
   "metadata": {},
   "outputs": [
    {
     "name": "stdout",
     "output_type": "stream",
     "text": [
      "88.0\n"
     ]
    }
   ],
   "source": [
    "studentMatt = Student(\"Matt\", (86, 90, 93, 78, 93))\n",
    "print(studentMatt.average_grade())"
   ]
  },
  {
   "cell_type": "code",
   "execution_count": 11,
   "id": "b9b9c524",
   "metadata": {},
   "outputs": [],
   "source": [
    "class Person:\n",
    "    \n",
    "    def __init__(self, name: str, age: int):\n",
    "        self.name = name\n",
    "        self.age = age"
   ]
  },
  {
   "cell_type": "code",
   "execution_count": 12,
   "id": "9936a046",
   "metadata": {},
   "outputs": [
    {
     "name": "stdout",
     "output_type": "stream",
     "text": [
      "<__main__.Person object at 0x1105c4b90>\n"
     ]
    }
   ],
   "source": [
    "bob = Person(\"Bob\", 35)\n",
    "print(bob)"
   ]
  },
  {
   "cell_type": "code",
   "execution_count": 13,
   "id": "c3e89916",
   "metadata": {},
   "outputs": [],
   "source": [
    "class Person:\n",
    "    \n",
    "    def __init__(self, name: str, age: int):\n",
    "        self.name = name\n",
    "        self.age = age\n",
    "        \n",
    "    \n",
    "    def __str__(self):\n",
    "        return f\"{self.name}, {self.age} years old.\""
   ]
  },
  {
   "cell_type": "code",
   "execution_count": 14,
   "id": "a4a26f7c",
   "metadata": {},
   "outputs": [
    {
     "name": "stdout",
     "output_type": "stream",
     "text": [
      "Bob, 35 years old.\n"
     ]
    }
   ],
   "source": [
    "bob = Person(\"Bob\", 35)\n",
    "print(bob)"
   ]
  },
  {
   "cell_type": "code",
   "execution_count": 15,
   "id": "c3552487",
   "metadata": {},
   "outputs": [],
   "source": [
    "class Person:\n",
    "    \n",
    "    def __init__(self, name: str, age: int):\n",
    "        self.name = name\n",
    "        self.age = age\n",
    "        \n",
    "    \n",
    "    def __str__(self):\n",
    "        return f\"{self.name}, {self.age} years old.\"\n",
    "    \n",
    "    \n",
    "    def __repr__(self):\n",
    "        return f\"<Person({self.name}, {self.age})>\""
   ]
  },
  {
   "cell_type": "code",
   "execution_count": 16,
   "id": "db72fc88",
   "metadata": {},
   "outputs": [
    {
     "name": "stdout",
     "output_type": "stream",
     "text": [
      "Bob, 35 years old.\n"
     ]
    }
   ],
   "source": [
    "bob = Person(\"Bob\", 35)\n",
    "print(bob)"
   ]
  },
  {
   "cell_type": "code",
   "execution_count": 17,
   "id": "3ea406d7",
   "metadata": {},
   "outputs": [],
   "source": [
    "class Person:\n",
    "    \n",
    "    def __init__(self, name: str, age: int):\n",
    "        self.name = name\n",
    "        self.age = age\n",
    "        \n",
    "    \n",
    "#     def __str__(self):\n",
    "#         return f\"{self.name}, {self.age} years old.\"\n",
    "    \n",
    "    \n",
    "    def __repr__(self):\n",
    "        return f\"<Person('{self.name}', {self.age})>\""
   ]
  },
  {
   "cell_type": "code",
   "execution_count": 18,
   "id": "e9d84d7c",
   "metadata": {},
   "outputs": [
    {
     "name": "stdout",
     "output_type": "stream",
     "text": [
      "<Person('Bob', 35)>\n"
     ]
    }
   ],
   "source": [
    "bob = Person(\"Bob\", 35)\n",
    "print(bob)"
   ]
  },
  {
   "cell_type": "code",
   "execution_count": 19,
   "id": "d65e9015",
   "metadata": {},
   "outputs": [],
   "source": [
    "class Store:\n",
    "    \n",
    "    def __init__(self, name: str):\n",
    "        self.name = name\n",
    "        self.items = []\n",
    "    \n",
    "    def add_item(self, name: str, price: float):\n",
    "        item = {\"name\": name, \"price\": price}\n",
    "        self.items.append(item)\n",
    "    \n",
    "    def stock_price(self):\n",
    "#         total_price = 0\n",
    "#         for item in self.items:\n",
    "#             total_price += item[\"price\"]\n",
    "#         return total_price\n",
    "        return sum([item[\"price\"] for item in self.items])\n",
    "    \n",
    "    def __repr__(self):\n",
    "        return repr(self.name)"
   ]
  },
  {
   "cell_type": "code",
   "execution_count": 20,
   "id": "d6e007ee",
   "metadata": {},
   "outputs": [
    {
     "data": {
      "text/plain": [
       "179.96"
      ]
     },
     "execution_count": 20,
     "metadata": {},
     "output_type": "execute_result"
    }
   ],
   "source": [
    "store = Store(\"My Store\")\n",
    "store.add_item(\"Chair\", 18.99)\n",
    "store.add_item(\"Fridge\", 78.99)\n",
    "store.add_item(\"Bed\", 54.99)\n",
    "store.add_item(\"Fan\", 26.99)\n",
    "store.stock_price()"
   ]
  },
  {
   "cell_type": "code",
   "execution_count": 21,
   "id": "4bc920a1",
   "metadata": {},
   "outputs": [
    {
     "data": {
      "text/plain": [
       "'My Store'"
      ]
     },
     "execution_count": 21,
     "metadata": {},
     "output_type": "execute_result"
    }
   ],
   "source": [
    "store"
   ]
  },
  {
   "cell_type": "markdown",
   "id": "1b854d76",
   "metadata": {},
   "source": [
    "### Instance Method"
   ]
  },
  {
   "cell_type": "code",
   "execution_count": 22,
   "id": "5c40c284",
   "metadata": {},
   "outputs": [],
   "source": [
    "class ClassTest:\n",
    "    \n",
    "    def __init__(self):\n",
    "        pass\n",
    "    \n",
    "    def instance_method(self):\n",
    "        print(f\"Called instance_method of {self}\")"
   ]
  },
  {
   "cell_type": "code",
   "execution_count": 23,
   "id": "e374dc33",
   "metadata": {},
   "outputs": [
    {
     "name": "stdout",
     "output_type": "stream",
     "text": [
      "Called instance_method of <__main__.ClassTest object at 0x1105e38d0>\n",
      "Called instance_method of <__main__.ClassTest object at 0x1105e38d0>\n"
     ]
    }
   ],
   "source": [
    "test = ClassTest()\n",
    "\n",
    "test.instance_method()\n",
    "ClassTest.instance_method(test)"
   ]
  },
  {
   "cell_type": "markdown",
   "id": "bd6e456f",
   "metadata": {},
   "source": [
    "### Class Method"
   ]
  },
  {
   "cell_type": "code",
   "execution_count": 24,
   "id": "b6fb8335",
   "metadata": {},
   "outputs": [],
   "source": [
    "class ClassTest:\n",
    "    \n",
    "    def __init__(self):\n",
    "        pass\n",
    "    \n",
    "    def instance_method(self):\n",
    "        print(f\"Called instance_method of {self}\")\n",
    "    \n",
    "    @classmethod\n",
    "    def class_method(cls):\n",
    "        print(f\"Called class_method of {cls}\")"
   ]
  },
  {
   "cell_type": "code",
   "execution_count": 25,
   "id": "95c8116e",
   "metadata": {},
   "outputs": [
    {
     "name": "stdout",
     "output_type": "stream",
     "text": [
      "Called class_method of <class '__main__.ClassTest'>\n"
     ]
    }
   ],
   "source": [
    "test = ClassTest()\n",
    "\n",
    "ClassTest.class_method()"
   ]
  },
  {
   "cell_type": "markdown",
   "id": "0bec6212",
   "metadata": {},
   "source": [
    "### Static Method"
   ]
  },
  {
   "cell_type": "code",
   "execution_count": 26,
   "id": "6658161d",
   "metadata": {},
   "outputs": [],
   "source": [
    "class ClassTest:\n",
    "    \n",
    "    def __init__(self):\n",
    "        pass\n",
    "    \n",
    "    def instance_method(self):\n",
    "        print(f\"Called instance_method of {self}\")\n",
    "        \n",
    "    @classmethod\n",
    "    def class_method(cls):\n",
    "        print(f\"Called class_method of {cls}\")\n",
    "        \n",
    "    @staticmethod\n",
    "    def static_method():\n",
    "        print(f\"Called static_method\")"
   ]
  },
  {
   "cell_type": "code",
   "execution_count": 27,
   "id": "e869bdb6",
   "metadata": {},
   "outputs": [
    {
     "name": "stdout",
     "output_type": "stream",
     "text": [
      "Called static_method\n"
     ]
    }
   ],
   "source": [
    "ClassTest.static_method()"
   ]
  },
  {
   "cell_type": "markdown",
   "id": "e5a87cf8",
   "metadata": {},
   "source": [
    "### Factory Example"
   ]
  },
  {
   "cell_type": "code",
   "execution_count": 28,
   "id": "e8a0f787",
   "metadata": {},
   "outputs": [
    {
     "name": "stdout",
     "output_type": "stream",
     "text": [
      "('hardcover', 'paperback')\n"
     ]
    }
   ],
   "source": [
    "class Book:\n",
    "    # class properties\n",
    "    TYPES = (\"hardcover\", \"paperback\")\n",
    "    \n",
    "print(Book.TYPES)"
   ]
  },
  {
   "cell_type": "code",
   "execution_count": 29,
   "id": "5c6c533f",
   "metadata": {},
   "outputs": [],
   "source": [
    "class Book:\n",
    "    # class properties\n",
    "    TYPES = (\"hardcover\", \"paperback\")\n",
    "    \n",
    "    def __init__(self, name: str, book_type: str, weight: int):\n",
    "        self.name = name\n",
    "        self.book_type = book_type\n",
    "        self.weight = weight"
   ]
  },
  {
   "cell_type": "code",
   "execution_count": 30,
   "id": "5eec3f9f",
   "metadata": {},
   "outputs": [
    {
     "name": "stdout",
     "output_type": "stream",
     "text": [
      "Harry Potter\n"
     ]
    }
   ],
   "source": [
    "book = Book(\"Harry Potter\", \"hardcover\", 1500)\n",
    "print(book.name)"
   ]
  },
  {
   "cell_type": "code",
   "execution_count": 31,
   "id": "007f35ff",
   "metadata": {},
   "outputs": [],
   "source": [
    "class Book:\n",
    "    # class properties\n",
    "    TYPES = (\"hardcover\", \"paperback\")\n",
    "    \n",
    "    def __init__(self, name: str, book_type: str, weight: int):\n",
    "        self.name = name\n",
    "        self.book_type = book_type\n",
    "        self.weight = weight\n",
    "        \n",
    "    def __repr__(self):\n",
    "        return f\"<Book({self.name}, {self.book_type}, weighing {self.weight}g)>\""
   ]
  },
  {
   "cell_type": "code",
   "execution_count": 32,
   "id": "619b6da2",
   "metadata": {},
   "outputs": [
    {
     "name": "stdout",
     "output_type": "stream",
     "text": [
      "<Book(Harry Potter, hardcover, weighing 1500g)>\n"
     ]
    }
   ],
   "source": [
    "book = Book(\"Harry Potter\", \"hardcover\", 1500)\n",
    "print(book)"
   ]
  },
  {
   "cell_type": "code",
   "execution_count": 33,
   "id": "cfa9d426",
   "metadata": {},
   "outputs": [
    {
     "name": "stdout",
     "output_type": "stream",
     "text": [
      "comic book\n"
     ]
    }
   ],
   "source": [
    "book = Book(\"Harry Potter\", \"comic book\", 1500)\n",
    "print(book.book_type)"
   ]
  },
  {
   "cell_type": "code",
   "execution_count": 34,
   "id": "81267259",
   "metadata": {},
   "outputs": [],
   "source": [
    "class Book:\n",
    "    # class properties\n",
    "    TYPES = (\"hardcover\", \"paperback\")\n",
    "    \n",
    "    def __init__(self, name: str, book_type: str, weight: int):\n",
    "        self.name = name\n",
    "        self.book_type = book_type\n",
    "        self.weight = weight\n",
    "        \n",
    "    def __repr__(self):\n",
    "        return f\"<Book({self.name}, {self.book_type}, weighing {self.weight}g)>\"\n",
    "    \n",
    "    @classmethod\n",
    "    def hardcover(cls, name: str, page_weight: int):\n",
    "        return Book(name, Book.TYPES[0], page_weight + 100)"
   ]
  },
  {
   "cell_type": "code",
   "execution_count": 35,
   "id": "db15f664",
   "metadata": {},
   "outputs": [
    {
     "name": "stdout",
     "output_type": "stream",
     "text": [
      "<Book(Harry Potter, hardcover, weighing 1600g)>\n"
     ]
    }
   ],
   "source": [
    "book = Book.hardcover(\"Harry Potter\", 1500)\n",
    "print(book)"
   ]
  },
  {
   "cell_type": "code",
   "execution_count": 36,
   "id": "140b9f09",
   "metadata": {},
   "outputs": [],
   "source": [
    "class Book:\n",
    "    # class properties\n",
    "    TYPES = (\"hardcover\", \"paperback\")\n",
    "    \n",
    "    def __init__(self, name: str, book_type: str, weight: int):\n",
    "        self.name = name\n",
    "        self.book_type = book_type\n",
    "        self.weight = weight\n",
    "        \n",
    "    def __repr__(self):\n",
    "        return f\"<Book({self.name}, {self.book_type}, weighing {self.weight}g)>\"\n",
    "    \n",
    "    @classmethod\n",
    "    def hardcover(cls, name: str, page_weight: int):\n",
    "        return Book(name, Book.TYPES[0], page_weight + 100)\n",
    "    \n",
    "    @classmethod\n",
    "    def paperback(cls, name: str, page_weight: int):\n",
    "        return Book(name, Book.TYPES[1], page_weight)"
   ]
  },
  {
   "cell_type": "code",
   "execution_count": 37,
   "id": "9b69a05a",
   "metadata": {},
   "outputs": [
    {
     "name": "stdout",
     "output_type": "stream",
     "text": [
      "<Book(Harry Potter, hardcover, weighing 1600g)>\n",
      "<Book(Python 101, paperback, weighing 600g)>\n"
     ]
    }
   ],
   "source": [
    "book_hardcover = Book.hardcover(\"Harry Potter\", 1500)\n",
    "book_paperback = Book.paperback(\"Python 101\", 600)\n",
    "\n",
    "print(book_hardcover)\n",
    "print(book_paperback)"
   ]
  },
  {
   "cell_type": "code",
   "execution_count": 38,
   "id": "fe8ed7a9",
   "metadata": {},
   "outputs": [],
   "source": [
    "class Book:\n",
    "    # class properties\n",
    "    TYPES = (\"hardcover\", \"paperback\")\n",
    "    \n",
    "    def __init__(self, name: str, book_type: str, weight: int):\n",
    "        self.name = name\n",
    "        self.book_type = book_type\n",
    "        self.weight = weight\n",
    "        \n",
    "    def __repr__(self):\n",
    "        return f\"<Book({self.name}, {self.book_type}, weighing {self.weight}g)>\"\n",
    "    \n",
    "    @classmethod\n",
    "    def hardcover(cls, name: str, page_weight: int):\n",
    "        return cls(name, cls.TYPES[0], page_weight + 100)\n",
    "    \n",
    "    @classmethod\n",
    "    def paperback(cls, name: str, page_weight: int):\n",
    "        return cls(name, cls.TYPES[1], page_weight)"
   ]
  },
  {
   "cell_type": "code",
   "execution_count": 39,
   "id": "85126a86",
   "metadata": {},
   "outputs": [
    {
     "name": "stdout",
     "output_type": "stream",
     "text": [
      "<Book(Harry Potter, hardcover, weighing 1600g)>\n",
      "<Book(Python 101, paperback, weighing 600g)>\n"
     ]
    }
   ],
   "source": [
    "book_hardcover = Book.hardcover(\"Harry Potter\", 1500)\n",
    "book_paperback = Book.paperback(\"Python 101\", 600)\n",
    "\n",
    "print(book_hardcover)\n",
    "print(book_paperback)"
   ]
  },
  {
   "cell_type": "code",
   "execution_count": 40,
   "id": "3e15b40b",
   "metadata": {},
   "outputs": [],
   "source": [
    "class Store:\n",
    "    \n",
    "    def __init__(self, name: str):\n",
    "        self.name = name\n",
    "        self.items = []\n",
    "    \n",
    "    def add_item(self, name: str, price: float):\n",
    "        item = {\"name\": name, \"price\": price}\n",
    "        self.items.append(item)\n",
    "    \n",
    "    def stock_price(self):\n",
    "        return sum([item[\"price\"] for item in self.items])\n",
    "    \n",
    "    def __repr__(self):\n",
    "        return repr(self.name)\n",
    "    \n",
    "    @classmethod\n",
    "    def franchise(cls, store):\n",
    "        return cls(store.name + \" - franchise\")\n",
    "    \n",
    "    @staticmethod\n",
    "    def store_details(store):\n",
    "        return f\"{store.name}, total stock price: {int(store.stock_price())}\""
   ]
  },
  {
   "cell_type": "code",
   "execution_count": 41,
   "id": "b1b9551a",
   "metadata": {},
   "outputs": [
    {
     "name": "stdout",
     "output_type": "stream",
     "text": [
      "'Test - franchise'\n",
      "'Amazon - franchise'\n",
      "Test, total stock price: 0\n",
      "Amazon, total stock price: 160\n"
     ]
    }
   ],
   "source": [
    "test_store = Store(\"Test\")\n",
    "amazon_store = Store(\"Amazon\")\n",
    "\n",
    "amazon_store.add_item(\"Keyboard\", 160)\n",
    "\n",
    "print(Store.franchise(test_store))\n",
    "print(Store.franchise(amazon_store))\n",
    "\n",
    "print(Store.store_details(test_store))\n",
    "print(Store.store_details(amazon_store))"
   ]
  },
  {
   "cell_type": "markdown",
   "id": "52745646",
   "metadata": {},
   "source": [
    "### Class Inheritance"
   ]
  },
  {
   "cell_type": "code",
   "execution_count": 42,
   "id": "68a7ec9d",
   "metadata": {},
   "outputs": [],
   "source": [
    "class Device:\n",
    "    \n",
    "    def __init__(self, name: str, connected_by: str):\n",
    "        self.name = name\n",
    "        self.connected_by = connected_by\n",
    "        self.connected = True\n",
    "        \n",
    "    def __str__(self):\n",
    "        return f\"Device {self.name!r} ({self.connected_by})\"\n",
    "    \n",
    "    def disconnect(self):\n",
    "        self.connected = False\n",
    "        print(\"Disconnected.\")"
   ]
  },
  {
   "cell_type": "code",
   "execution_count": 43,
   "id": "10f82b87",
   "metadata": {},
   "outputs": [
    {
     "name": "stdout",
     "output_type": "stream",
     "text": [
      "Device 'Printer' (USB)\n",
      "Disconnected.\n"
     ]
    }
   ],
   "source": [
    "printer = Device(\"Printer\", \"USB\")\n",
    "print(printer)\n",
    "printer.disconnect()"
   ]
  },
  {
   "cell_type": "code",
   "execution_count": 44,
   "id": "a9ad6ea4",
   "metadata": {},
   "outputs": [],
   "source": [
    "class Printer(Device):\n",
    "    \n",
    "    def __init__(self, name: str, connected_by: str, capacity: int):\n",
    "        super().__init__(name, connected_by)\n",
    "        self.capacity = capacity\n",
    "        self.remaining_pages = capacity\n",
    "        \n",
    "    def __str__(self):\n",
    "        return f\"{super().__str__()} ({self.remaining_pages} pages remaining)\"\n",
    "    \n",
    "    def print_pages(self, pages):\n",
    "        if not self.connected:\n",
    "            return \"Your printer is not connected!\"\n",
    "        print(f\"Printing {pages} pages.\")\n",
    "        self.remaining_pages -= pages"
   ]
  },
  {
   "cell_type": "code",
   "execution_count": 45,
   "id": "0d40df21",
   "metadata": {},
   "outputs": [
    {
     "name": "stdout",
     "output_type": "stream",
     "text": [
      "Printing 45 pages.\n",
      "Device 'Cannon Printer' (USB) (1155 pages remaining)\n"
     ]
    }
   ],
   "source": [
    "printer = Printer(\"Cannon Printer\", \"USB\", 1200)\n",
    "printer.print_pages(45)\n",
    "\n",
    "print(printer)"
   ]
  },
  {
   "cell_type": "code",
   "execution_count": 46,
   "id": "c6663a0c",
   "metadata": {},
   "outputs": [
    {
     "name": "stdout",
     "output_type": "stream",
     "text": [
      "Printing 100 pages.\n",
      "Device 'Cannon Printer' (USB) (1100 pages remaining)\n",
      "Disconnected.\n"
     ]
    }
   ],
   "source": [
    "printer = Printer(\"Cannon Printer\", \"USB\", 1200)\n",
    "printer.print_pages(100)\n",
    "\n",
    "print(printer)\n",
    "\n",
    "printer.disconnect()"
   ]
  },
  {
   "cell_type": "markdown",
   "id": "f8da1776",
   "metadata": {},
   "source": [
    "### Class Composition "
   ]
  },
  {
   "cell_type": "code",
   "execution_count": 47,
   "id": "82efe2c1",
   "metadata": {},
   "outputs": [],
   "source": [
    "class BookShelf:\n",
    "    \n",
    "    def __init__(self, quantity):\n",
    "        self.quantity = quantity\n",
    "        \n",
    "    def __str__(self):\n",
    "        return f\"BookShelf with {self.quantity} books.\""
   ]
  },
  {
   "cell_type": "code",
   "execution_count": 48,
   "id": "f3c88e35",
   "metadata": {},
   "outputs": [
    {
     "name": "stdout",
     "output_type": "stream",
     "text": [
      "BookShelf with 400 books.\n"
     ]
    }
   ],
   "source": [
    "shelf = BookShelf(400)\n",
    "\n",
    "print(shelf)"
   ]
  },
  {
   "cell_type": "code",
   "execution_count": 49,
   "id": "ce569132",
   "metadata": {},
   "outputs": [],
   "source": [
    "class Book(BookShelf):\n",
    "    \n",
    "    def __init__(self, name, quantity):\n",
    "        super().__init__(quantity)\n",
    "        self.name = name\n",
    "        \n",
    "    def __str__(self):\n",
    "        return f\"Book {self.name}\""
   ]
  },
  {
   "cell_type": "code",
   "execution_count": 50,
   "id": "c826ce12",
   "metadata": {},
   "outputs": [
    {
     "name": "stdout",
     "output_type": "stream",
     "text": [
      "Book Harry Potter\n"
     ]
    }
   ],
   "source": [
    "book = Book(\"Harry Potter\", 120)\n",
    "print(book)"
   ]
  },
  {
   "cell_type": "markdown",
   "id": "2fbb175c",
   "metadata": {},
   "source": [
    "This is not a good approach, that's where class composition helps"
   ]
  },
  {
   "cell_type": "code",
   "execution_count": 51,
   "id": "b74a1d4c",
   "metadata": {},
   "outputs": [],
   "source": [
    "class BookShelf:\n",
    "    \n",
    "    def __init__(self, *books):\n",
    "        self.books = books\n",
    "        \n",
    "    def __str__(self):\n",
    "        return f\"BookShelf with {len(self.books)} books.\"\n",
    "        \n",
    "        \n",
    "class Book:\n",
    "    \n",
    "    def __init__(self, name):\n",
    "        self.name = name\n",
    "        \n",
    "    def __str__(self):\n",
    "        return f\"Book {self.name}\""
   ]
  },
  {
   "cell_type": "code",
   "execution_count": 52,
   "id": "174b39a9",
   "metadata": {},
   "outputs": [
    {
     "name": "stdout",
     "output_type": "stream",
     "text": [
      "BookShelf with 2 books.\n"
     ]
    }
   ],
   "source": [
    "book_1 = Book(\"Harry Potter\")\n",
    "book_2 = Book(\"Python 101\")\n",
    "\n",
    "shelf = BookShelf(book_1, book_2)\n",
    "print(shelf)"
   ]
  }
 ],
 "metadata": {
  "kernelspec": {
   "display_name": "Python 3 (ipykernel)",
   "language": "python",
   "name": "python3"
  },
  "language_info": {
   "codemirror_mode": {
    "name": "ipython",
    "version": 3
   },
   "file_extension": ".py",
   "mimetype": "text/x-python",
   "name": "python",
   "nbconvert_exporter": "python",
   "pygments_lexer": "ipython3",
   "version": "3.11.1"
  }
 },
 "nbformat": 4,
 "nbformat_minor": 5
}
