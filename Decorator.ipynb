{
 "cells": [
  {
   "cell_type": "code",
   "execution_count": 1,
   "id": "dfc97cc2",
   "metadata": {},
   "outputs": [
    {
     "name": "stdout",
     "output_type": "stream",
     "text": [
      "Execution time of long_running_function: 2.0047030448913574 seconds\n"
     ]
    }
   ],
   "source": [
    "import time\n",
    "\n",
    "def log_execution_time(func):\n",
    "    def wrapper(*args, **kwargs):\n",
    "        start_time = time.time()\n",
    "        result = func(*args, **kwargs)\n",
    "        end_time = time.time()\n",
    "        print(f\"Execution time of {func.__name__}: {end_time - start_time} seconds\" )\n",
    "        return result\n",
    "    return wrapper\n",
    "\n",
    "\n",
    "@log_execution_time\n",
    "def long_running_function():\n",
    "    time.sleep(2)\n",
    "    \n",
    "long_running_function()\n",
    "# output: Execution time of long_running_function: 2.0022599697113037 seconds"
   ]
  },
  {
   "cell_type": "code",
   "execution_count": 2,
   "id": "4d282ca6",
   "metadata": {},
   "outputs": [
    {
     "name": "stdout",
     "output_type": "stream",
     "text": [
      "Execution time of long_running_function: 2.00 seconds\n"
     ]
    }
   ],
   "source": [
    "import time\n",
    "\n",
    "def log_execution_time(log_message: str):\n",
    "    def decorator(func):\n",
    "        def wrapper(*args, **kwargs):\n",
    "            start_time = time.time()\n",
    "            result = func(*args, **kwargs)\n",
    "            end_time = time.time()\n",
    "            print(log_message.format(func.__name__, end_time - start_time))\n",
    "            return result\n",
    "        return wrapper\n",
    "    return decorator\n",
    "\n",
    "\n",
    "@log_execution_time(\"Execution time of {}: {:.2f} seconds\")\n",
    "def long_running_function():\n",
    "    time.sleep(2)\n",
    "    \n",
    "long_running_function()\n",
    "# output: Execution time of long_running_function: 2.01 seconds"
   ]
  },
  {
   "cell_type": "code",
   "execution_count": 3,
   "id": "f4d79a2f",
   "metadata": {},
   "outputs": [
    {
     "name": "stdout",
     "output_type": "stream",
     "text": [
      "OLLEH\n",
      "OLLEH\n"
     ]
    }
   ],
   "source": [
    "def uppercase(func):\n",
    "    def wrapper(*args, **kwargs):\n",
    "        result = func(*args, **kwargs)\n",
    "        return result.upper()\n",
    "    return wrapper\n",
    "\n",
    "def reverse(func):\n",
    "    def wrapper(*args, **kwargs):\n",
    "        result = func(*args, **kwargs)\n",
    "        return result[::-1]\n",
    "    return wrapper\n",
    "\n",
    "# case 1\n",
    "@uppercase\n",
    "@reverse\n",
    "def greet():\n",
    "    return \"hello\"\n",
    "\n",
    "print(greet()) # output: \"OLLEH\"\n",
    "\n",
    "# case 2\n",
    "@reverse\n",
    "@uppercase\n",
    "def greet():\n",
    "    return \"hello\"\n",
    "\n",
    "print(greet()) # output: \"OLLEH\""
   ]
  },
  {
   "cell_type": "code",
   "execution_count": 4,
   "id": "6618177e",
   "metadata": {},
   "outputs": [
    {
     "name": "stdout",
     "output_type": "stream",
     "text": [
      "Decorator1\n",
      "Decorator2\n",
      "Function\n",
      "************\n",
      "Decorator2\n",
      "Decorator1\n",
      "Function\n"
     ]
    }
   ],
   "source": [
    "def decorator1(func):\n",
    "    def wrapper(*args, **kwargs):\n",
    "        print(\"Decorator1\")\n",
    "        return func(*args, **kwargs)\n",
    "    return wrapper\n",
    "\n",
    "def decorator2(func):\n",
    "    def wrapper(*args, **kwargs):\n",
    "        print(\"Decorator2\")\n",
    "        return func(*args, **kwargs)\n",
    "    return wrapper\n",
    "\n",
    "# case 1\n",
    "@decorator1\n",
    "@decorator2\n",
    "def my_function():\n",
    "    print(\"Function\", end=\"\\n\"+ \"*\"*12 + \"\\n\")\n",
    "    \n",
    "my_function()\n",
    "# output: 'Decorator1'\n",
    "#         'Decorator2'\n",
    "#         'Function'\n",
    "\n",
    "# case 2\n",
    "@decorator2\n",
    "@decorator1\n",
    "def my_function():\n",
    "    print(\"Function\")\n",
    "    \n",
    "my_function()\n",
    "# output: 'Decorator2'\n",
    "#         'Decorator1'\n",
    "#         'Function'"
   ]
  },
  {
   "cell_type": "code",
   "execution_count": 5,
   "id": "0bedadde",
   "metadata": {},
   "outputs": [
    {
     "name": "stdout",
     "output_type": "stream",
     "text": [
      "0\n",
      "2\n"
     ]
    }
   ],
   "source": [
    "def count_calls(func):\n",
    "    def wrapper(*args, **kwargs):\n",
    "        wrapper.calls += 1\n",
    "        result = func(*args, **kwargs)\n",
    "        return result\n",
    "    wrapper.calls = 0\n",
    "    return wrapper\n",
    "\n",
    "\n",
    "@count_calls\n",
    "def greet():\n",
    "    return \"hello\"\n",
    "\n",
    "print(greet.calls) # output: 0\n",
    "greet()\n",
    "greet()\n",
    "print(greet.calls) # output: 2"
   ]
  },
  {
   "cell_type": "code",
   "execution_count": 6,
   "id": "66e19cfd",
   "metadata": {},
   "outputs": [
    {
     "name": "stdout",
     "output_type": "stream",
     "text": [
      "Execution time of expensive_function: 2.005134105682373 seconds\n"
     ]
    },
    {
     "data": {
      "text/plain": [
       "3"
      ]
     },
     "execution_count": 6,
     "metadata": {},
     "output_type": "execute_result"
    }
   ],
   "source": [
    "import time\n",
    "\n",
    "def log_execution_time(func):\n",
    "    def wrapper(*args, **kwargs):\n",
    "        start_time = time.time()\n",
    "        result = func(*args, **kwargs)\n",
    "        end_time = time.time()\n",
    "        print(f\"Execution time of {func.__name__}: {end_time - start_time} seconds\" )\n",
    "        return result\n",
    "    return wrapper\n",
    "\n",
    "def cache_results(func):\n",
    "    cache = {}\n",
    "    def wrapper(*args, **kwargs):\n",
    "        key = (args, tuple(sorted(kwargs.items())))\n",
    "        if key in cache:\n",
    "            return cache[key]\n",
    "        result = func(*args, **kwargs)\n",
    "        cache[key] = result\n",
    "        return result\n",
    "    return wrapper\n",
    "\n",
    "\n",
    "@cache_results\n",
    "@log_execution_time\n",
    "def expensive_function(a, b, c=0):\n",
    "    # Perform a long and expensive calculation\n",
    "    time.sleep(2)\n",
    "    return a + b + c\n",
    "\n",
    "expensive_function(1, 2)\n",
    "# First call takes 2 seconds\n",
    "\n",
    "expensive_function(1, 2)\n",
    "# Second call returns the cached result and take no time"
   ]
  },
  {
   "cell_type": "code",
   "execution_count": 7,
   "id": "6fd94214",
   "metadata": {},
   "outputs": [
    {
     "name": "stdout",
     "output_type": "stream",
     "text": [
      "None\n",
      "wrapper\n"
     ]
    }
   ],
   "source": [
    "def uppercase(func):\n",
    "    def wrapper(*args, **kwargs):\n",
    "        result = func(*args, **kwargs)\n",
    "        return result.upper()\n",
    "    return wrapper\n",
    "\n",
    "@uppercase\n",
    "def greet():\n",
    "    \"\"\"Return a friendly greeting.\"\"\"\n",
    "    return \"hello\"\n",
    "\n",
    "print(greet.__doc__) # Output: None\n",
    "print(greet.__name__) # Output: 'wrapper'"
   ]
  },
  {
   "cell_type": "code",
   "execution_count": 8,
   "id": "8007455d",
   "metadata": {},
   "outputs": [
    {
     "name": "stdout",
     "output_type": "stream",
     "text": [
      "Return a friendly greeting.\n",
      "greet\n"
     ]
    }
   ],
   "source": [
    "import functools\n",
    "\n",
    "def uppercase(func):\n",
    "    @functools.wraps(func)\n",
    "    def wrapper(*args, **kwargs):\n",
    "        result = func(*args, **kwargs)\n",
    "        return result.upper()\n",
    "    return wrapper\n",
    "\n",
    "@uppercase\n",
    "def greet():\n",
    "    \"\"\"Return a friendly greeting.\"\"\"\n",
    "    return \"hello\"\n",
    "\n",
    "print(greet.__doc__) # Output: Return a friendly greeting.\n",
    "print(greet.__name__) # Output: 'greet'"
   ]
  },
  {
   "cell_type": "code",
   "execution_count": 9,
   "id": "bd0bb92c",
   "metadata": {},
   "outputs": [
    {
     "name": "stdout",
     "output_type": "stream",
     "text": [
      "hellohellohello\n"
     ]
    }
   ],
   "source": [
    "def repeat(n):\n",
    "    def decorator(func):\n",
    "        def wrapper(*args, **kwargs):\n",
    "            result = \"\"\n",
    "            for i in range(n):\n",
    "                result += func(*args, **kwargs)\n",
    "            return result\n",
    "        return wrapper\n",
    "    return decorator\n",
    "\n",
    "@repeat(3)\n",
    "def greet():\n",
    "    return \"hello\"\n",
    "\n",
    "print(greet()) # Output: 'hellohellohello'"
   ]
  },
  {
   "cell_type": "code",
   "execution_count": 10,
   "id": "b2456c75",
   "metadata": {},
   "outputs": [
    {
     "name": "stdout",
     "output_type": "stream",
     "text": [
      "Called: method1\n",
      "Method 1\n",
      "Called: method2\n",
      "Method 2\n"
     ]
    }
   ],
   "source": [
    "def log_class_methods(cls):\n",
    "    for name, value in cls.__dict__.items():\n",
    "        if callable(value):\n",
    "            setattr(cls, name, log_call(value))\n",
    "    return cls\n",
    "\n",
    "def log_call(func):\n",
    "    def wrapper(*args, **kwargs):\n",
    "        print(f\"Called: {func.__name__}\")\n",
    "        return func(*args, **kwargs)\n",
    "    return wrapper\n",
    "\n",
    "@log_class_methods\n",
    "class MyClass:\n",
    "    def method1(self):\n",
    "        print(\"Method 1\")\n",
    "    def method2(self):\n",
    "        print(\"Method 2\")\n",
    "        \n",
    "obj = MyClass()\n",
    "obj.method1() # Output: 'Called: method1' \\n 'Method 1'\n",
    "obj.method2() # Output: 'Called: method2' \\n 'Method 2'"
   ]
  },
  {
   "cell_type": "code",
   "execution_count": 11,
   "id": "c985e740",
   "metadata": {},
   "outputs": [
    {
     "ename": "TypeError",
     "evalue": "User.do_admin_task() takes 0 positional arguments but 1 was given",
     "output_type": "error",
     "traceback": [
      "\u001b[0;31m---------------------------------------------------------------------------\u001b[0m",
      "\u001b[0;31mTypeError\u001b[0m                                 Traceback (most recent call last)",
      "Cell \u001b[0;32mIn[11], line 17\u001b[0m\n\u001b[1;32m     14\u001b[0m         \u001b[38;5;28mprint\u001b[39m(\u001b[38;5;124m\"\u001b[39m\u001b[38;5;124mDoing admin task\u001b[39m\u001b[38;5;124m\"\u001b[39m)\n\u001b[1;32m     16\u001b[0m admin \u001b[38;5;241m=\u001b[39m User(\u001b[38;5;28;01mTrue\u001b[39;00m)\n\u001b[0;32m---> 17\u001b[0m \u001b[43madmin\u001b[49m\u001b[38;5;241;43m.\u001b[39;49m\u001b[43mdo_admin_task\u001b[49m\u001b[43m(\u001b[49m\u001b[43m)\u001b[49m \u001b[38;5;66;03m# Output: 'Doing admin task'\u001b[39;00m\n\u001b[1;32m     19\u001b[0m admin \u001b[38;5;241m=\u001b[39m User(\u001b[38;5;28;01mFalse\u001b[39;00m)\n\u001b[1;32m     20\u001b[0m admin\u001b[38;5;241m.\u001b[39mdo_admin_task() \u001b[38;5;66;03m# Raises: PermissionError: Admin only\u001b[39;00m\n",
      "Cell \u001b[0;32mIn[11], line 4\u001b[0m, in \u001b[0;36madmin_only.<locals>.wrapper\u001b[0;34m(self, *args, **kwargs)\u001b[0m\n\u001b[1;32m      2\u001b[0m \u001b[38;5;28;01mdef\u001b[39;00m \u001b[38;5;21mwrapper\u001b[39m(\u001b[38;5;28mself\u001b[39m, \u001b[38;5;241m*\u001b[39margs, \u001b[38;5;241m*\u001b[39m\u001b[38;5;241m*\u001b[39mkwargs):\n\u001b[1;32m      3\u001b[0m     \u001b[38;5;28;01mif\u001b[39;00m \u001b[38;5;28mself\u001b[39m\u001b[38;5;241m.\u001b[39mis_admin:\n\u001b[0;32m----> 4\u001b[0m         \u001b[38;5;28;01mreturn\u001b[39;00m \u001b[43mfunc\u001b[49m\u001b[43m(\u001b[49m\u001b[38;5;28;43mself\u001b[39;49m\u001b[43m,\u001b[49m\u001b[43m \u001b[49m\u001b[38;5;241;43m*\u001b[39;49m\u001b[43margs\u001b[49m\u001b[43m,\u001b[49m\u001b[43m \u001b[49m\u001b[38;5;241;43m*\u001b[39;49m\u001b[38;5;241;43m*\u001b[39;49m\u001b[43mkwargs\u001b[49m\u001b[43m)\u001b[49m\n\u001b[1;32m      5\u001b[0m     \u001b[38;5;28;01melse\u001b[39;00m:\n\u001b[1;32m      6\u001b[0m         \u001b[38;5;28;01mraise\u001b[39;00m \u001b[38;5;167;01mPermissionError\u001b[39;00m(\u001b[38;5;124m\"\u001b[39m\u001b[38;5;124mAdmin only\u001b[39m\u001b[38;5;124m\"\u001b[39m)\n",
      "\u001b[0;31mTypeError\u001b[0m: User.do_admin_task() takes 0 positional arguments but 1 was given"
     ]
    }
   ],
   "source": [
    "def admin_only(func):\n",
    "    def wrapper(self, *args, **kwargs):\n",
    "        if self.is_admin:\n",
    "            return func(self, *args, **kwargs)\n",
    "        else:\n",
    "            raise PermissionError(\"Admin only\")\n",
    "    return wrapper\n",
    "    \n",
    "class User:\n",
    "    def __init__(self, is_admin):\n",
    "        self.is_admin = is_admin\n",
    "    @admin_only\n",
    "    def do_admin_task():\n",
    "        print(\"Doing admin task\")\n",
    "        \n",
    "admin = User(True)\n",
    "admin.do_admin_task() # Output: 'Doing admin task'\n",
    "\n",
    "admin = User(False)\n",
    "admin.do_admin_task() # Raises: PermissionError: Admin only"
   ]
  },
  {
   "cell_type": "code",
   "execution_count": 12,
   "id": "24643bc5",
   "metadata": {},
   "outputs": [
    {
     "name": "stdout",
     "output_type": "stream",
     "text": [
      "This is a new class attribute\n"
     ]
    }
   ],
   "source": [
    "def add_attributes(cls):\n",
    "    cls.new_attribute = \"This is a new class attribute\"\n",
    "    return cls\n",
    "        \n",
    "@add_attributes\n",
    "class MyClass:\n",
    "    pass\n",
    "\n",
    "obj = MyClass()\n",
    "print(obj.new_attribute) # Output: 'This is a new class attribute'"
   ]
  }
 ],
 "metadata": {
  "kernelspec": {
   "display_name": "Python 3 (ipykernel)",
   "language": "python",
   "name": "python3"
  },
  "language_info": {
   "codemirror_mode": {
    "name": "ipython",
    "version": 3
   },
   "file_extension": ".py",
   "mimetype": "text/x-python",
   "name": "python",
   "nbconvert_exporter": "python",
   "pygments_lexer": "ipython3",
   "version": "3.11.1"
  }
 },
 "nbformat": 4,
 "nbformat_minor": 5
}
